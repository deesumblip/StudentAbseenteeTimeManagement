{
 "cells": [
  {
   "cell_type": "markdown",
   "metadata": {},
   "source": [
    "# Predicting Student Absence rates using Time Management - A Deep Learning Model"
   ]
  },
  {
   "cell_type": "markdown",
   "metadata": {},
   "source": [
    "This dataset has been downloaded off Kaggle through this [link](https://www.kaggle.com/xiaowenlimarketing/international-student-time-management/data#). It contains questionnaire items related to time management information, which could potentially be used to predict a student's absentee rate in class. However, it should be noted that the dataset only has 125 entries and the results of the model would need to be validated on much larger samples. This notebook is for illustrative purposes.\n",
    "\n",
    "- Number - Participant number\n",
    "- Age\n",
    "- Gender\n",
    "- Nationality\n",
    "- Program (Foundation, International Year One, Pre-Master's and Language Only)\n",
    "- Course Name\n",
    "- English proficiency\n",
    "- Academic Marks\n",
    "- Attendence Level (low to high)\n",
    "- Time management questionnaire items"
   ]
  },
  {
   "cell_type": "markdown",
   "metadata": {},
   "source": [
    "Imports the necessary libraries for dataframe manipulation and graphing."
   ]
  },
  {
   "cell_type": "code",
   "execution_count": 1,
   "metadata": {},
   "outputs": [],
   "source": [
    "import pandas as pd\n",
    "import numpy as np\n",
    "import matplotlib.pyplot as plt\n",
    "import seaborn as sns\n",
    "%matplotlib inline"
   ]
  },
  {
   "cell_type": "markdown",
   "metadata": {},
   "source": [
    "Imports the CSV file and assign as \"students\" dataframe."
   ]
  },
  {
   "cell_type": "code",
   "execution_count": 2,
   "metadata": {},
   "outputs": [],
   "source": [
    "students = pd.read_csv('International_students_Time_management_data.csv')"
   ]
  },
  {
   "cell_type": "markdown",
   "metadata": {},
   "source": [
    "Checks header values of dataframe"
   ]
  },
  {
   "cell_type": "code",
   "execution_count": 3,
   "metadata": {},
   "outputs": [
    {
     "data": {
      "text/html": [
       "<div>\n",
       "<style scoped>\n",
       "    .dataframe tbody tr th:only-of-type {\n",
       "        vertical-align: middle;\n",
       "    }\n",
       "\n",
       "    .dataframe tbody tr th {\n",
       "        vertical-align: top;\n",
       "    }\n",
       "\n",
       "    .dataframe thead th {\n",
       "        text-align: right;\n",
       "    }\n",
       "</style>\n",
       "<table border=\"1\" class=\"dataframe\">\n",
       "  <thead>\n",
       "    <tr style=\"text-align: right;\">\n",
       "      <th></th>\n",
       "      <th>Number</th>\n",
       "      <th>Age</th>\n",
       "      <th>Gender</th>\n",
       "      <th>Nationality</th>\n",
       "      <th>Program</th>\n",
       "      <th>Course</th>\n",
       "      <th>English</th>\n",
       "      <th>Academic</th>\n",
       "      <th>Attendance</th>\n",
       "      <th>6</th>\n",
       "      <th>...</th>\n",
       "      <th>8</th>\n",
       "      <th>9</th>\n",
       "      <th>10</th>\n",
       "      <th>11</th>\n",
       "      <th>12</th>\n",
       "      <th>13</th>\n",
       "      <th>14</th>\n",
       "      <th>15</th>\n",
       "      <th>16</th>\n",
       "      <th>17</th>\n",
       "    </tr>\n",
       "  </thead>\n",
       "  <tbody>\n",
       "    <tr>\n",
       "      <td>0</td>\n",
       "      <td>1</td>\n",
       "      <td>31-35</td>\n",
       "      <td>M</td>\n",
       "      <td>Korea</td>\n",
       "      <td>PM</td>\n",
       "      <td>Social Sciences and Humanities</td>\n",
       "      <td>60%~70%</td>\n",
       "      <td>NaN</td>\n",
       "      <td>S0</td>\n",
       "      <td>Disagree</td>\n",
       "      <td>...</td>\n",
       "      <td>Strong Agree</td>\n",
       "      <td>Neither</td>\n",
       "      <td>Agree</td>\n",
       "      <td>Neither</td>\n",
       "      <td>Disagree</td>\n",
       "      <td>Strong Disagree</td>\n",
       "      <td>Strong Agree</td>\n",
       "      <td>Neither</td>\n",
       "      <td>Disagree</td>\n",
       "      <td>Agree</td>\n",
       "    </tr>\n",
       "    <tr>\n",
       "      <td>1</td>\n",
       "      <td>2</td>\n",
       "      <td>26-30</td>\n",
       "      <td>M</td>\n",
       "      <td>China</td>\n",
       "      <td>PM</td>\n",
       "      <td>Science and engineering</td>\n",
       "      <td>60%~70%</td>\n",
       "      <td>50%~59%</td>\n",
       "      <td>S3</td>\n",
       "      <td>Strong Agree</td>\n",
       "      <td>...</td>\n",
       "      <td>Neither</td>\n",
       "      <td>Disagree</td>\n",
       "      <td>Agree</td>\n",
       "      <td>Neither</td>\n",
       "      <td>Disagree</td>\n",
       "      <td>Strong Disagree</td>\n",
       "      <td>Neither</td>\n",
       "      <td>Agree</td>\n",
       "      <td>Neither</td>\n",
       "      <td>Disagree</td>\n",
       "    </tr>\n",
       "    <tr>\n",
       "      <td>2</td>\n",
       "      <td>3</td>\n",
       "      <td>26-30</td>\n",
       "      <td>M</td>\n",
       "      <td>Kenya</td>\n",
       "      <td>PM</td>\n",
       "      <td>Business</td>\n",
       "      <td>60%~70%</td>\n",
       "      <td>NaN</td>\n",
       "      <td>S0</td>\n",
       "      <td>Disagree</td>\n",
       "      <td>...</td>\n",
       "      <td>Agree</td>\n",
       "      <td>Disagree</td>\n",
       "      <td>Agree</td>\n",
       "      <td>Agree</td>\n",
       "      <td>Disagree</td>\n",
       "      <td>Strong Disagree</td>\n",
       "      <td>Disagree</td>\n",
       "      <td>Strong Agree</td>\n",
       "      <td>Strong Agree</td>\n",
       "      <td>Disagree</td>\n",
       "    </tr>\n",
       "    <tr>\n",
       "      <td>3</td>\n",
       "      <td>4</td>\n",
       "      <td>21-25</td>\n",
       "      <td>M</td>\n",
       "      <td>Vietnam</td>\n",
       "      <td>PM</td>\n",
       "      <td>Law/Legal studies</td>\n",
       "      <td>60%~70%</td>\n",
       "      <td>60%~70%</td>\n",
       "      <td>S0</td>\n",
       "      <td>Disagree</td>\n",
       "      <td>...</td>\n",
       "      <td>Agree</td>\n",
       "      <td>Agree</td>\n",
       "      <td>Disagree</td>\n",
       "      <td>Agree</td>\n",
       "      <td>Neither</td>\n",
       "      <td>Neither</td>\n",
       "      <td>Neither</td>\n",
       "      <td>Neither</td>\n",
       "      <td>Disagree</td>\n",
       "      <td>Agree</td>\n",
       "    </tr>\n",
       "    <tr>\n",
       "      <td>4</td>\n",
       "      <td>5</td>\n",
       "      <td>21-25</td>\n",
       "      <td>M</td>\n",
       "      <td>China</td>\n",
       "      <td>PM</td>\n",
       "      <td>Business</td>\n",
       "      <td>60%~70%</td>\n",
       "      <td>50%~59%</td>\n",
       "      <td>S1</td>\n",
       "      <td>Neither</td>\n",
       "      <td>...</td>\n",
       "      <td>Neither</td>\n",
       "      <td>Neither</td>\n",
       "      <td>Disagree</td>\n",
       "      <td>Neither</td>\n",
       "      <td>Neither</td>\n",
       "      <td>Neither</td>\n",
       "      <td>Neither</td>\n",
       "      <td>Disagree</td>\n",
       "      <td>Neither</td>\n",
       "      <td>Agree</td>\n",
       "    </tr>\n",
       "  </tbody>\n",
       "</table>\n",
       "<p>5 rows × 21 columns</p>\n",
       "</div>"
      ],
      "text/plain": [
       "   Number    Age Gender Nationality Program                          Course  \\\n",
       "0       1  31-35      M       Korea      PM  Social Sciences and Humanities   \n",
       "1       2  26-30      M       China      PM         Science and engineering   \n",
       "2       3  26-30      M       Kenya      PM                        Business   \n",
       "3       4  21-25      M     Vietnam      PM               Law/Legal studies   \n",
       "4       5  21-25      M       China      PM                        Business   \n",
       "\n",
       "   English Academic Attendance             6  ...             8         9  \\\n",
       "0  60%~70%      NaN         S0      Disagree  ...  Strong Agree   Neither   \n",
       "1  60%~70%  50%~59%         S3  Strong Agree  ...       Neither  Disagree   \n",
       "2  60%~70%      NaN         S0      Disagree  ...         Agree  Disagree   \n",
       "3  60%~70%  60%~70%         S0      Disagree  ...         Agree     Agree   \n",
       "4  60%~70%  50%~59%         S1       Neither  ...       Neither   Neither   \n",
       "\n",
       "         10       11        12               13            14            15  \\\n",
       "0     Agree  Neither  Disagree  Strong Disagree  Strong Agree       Neither   \n",
       "1     Agree  Neither  Disagree  Strong Disagree       Neither         Agree   \n",
       "2     Agree    Agree  Disagree  Strong Disagree      Disagree  Strong Agree   \n",
       "3  Disagree    Agree   Neither          Neither       Neither       Neither   \n",
       "4  Disagree  Neither   Neither          Neither       Neither      Disagree   \n",
       "\n",
       "             16        17  \n",
       "0      Disagree     Agree  \n",
       "1       Neither  Disagree  \n",
       "2  Strong Agree  Disagree  \n",
       "3      Disagree     Agree  \n",
       "4       Neither     Agree  \n",
       "\n",
       "[5 rows x 21 columns]"
      ]
     },
     "execution_count": 3,
     "metadata": {},
     "output_type": "execute_result"
    }
   ],
   "source": [
    "students.head()"
   ]
  },
  {
   "cell_type": "markdown",
   "metadata": {},
   "source": [
    "Checks column types and number of rows - 125 in this case."
   ]
  },
  {
   "cell_type": "code",
   "execution_count": 4,
   "metadata": {},
   "outputs": [
    {
     "name": "stdout",
     "output_type": "stream",
     "text": [
      "<class 'pandas.core.frame.DataFrame'>\n",
      "RangeIndex: 125 entries, 0 to 124\n",
      "Data columns (total 21 columns):\n",
      "Number         125 non-null int64\n",
      "Age            125 non-null object\n",
      "Gender         125 non-null object\n",
      "Nationality    125 non-null object\n",
      "Program        125 non-null object\n",
      "Course         125 non-null object\n",
      "English        119 non-null object\n",
      "Academic       103 non-null object\n",
      "Attendance     119 non-null object\n",
      "6              123 non-null object\n",
      "7              125 non-null object\n",
      "8              121 non-null object\n",
      "9              118 non-null object\n",
      "10             124 non-null object\n",
      "11             123 non-null object\n",
      "12             122 non-null object\n",
      "13             125 non-null object\n",
      "14             124 non-null object\n",
      "15             125 non-null object\n",
      "16             123 non-null object\n",
      "17             124 non-null object\n",
      "dtypes: int64(1), object(20)\n",
      "memory usage: 20.6+ KB\n"
     ]
    }
   ],
   "source": [
    "students.info()"
   ]
  },
  {
   "cell_type": "markdown",
   "metadata": {},
   "source": [
    "## Descriptive Statistics and Plots"
   ]
  },
  {
   "cell_type": "markdown",
   "metadata": {},
   "source": [
    "Before deciding on which columns to use for prediction, here are some descriptions of the variables available."
   ]
  },
  {
   "cell_type": "markdown",
   "metadata": {},
   "source": [
    "Lists unique Age categories."
   ]
  },
  {
   "cell_type": "code",
   "execution_count": 5,
   "metadata": {},
   "outputs": [
    {
     "data": {
      "text/plain": [
       "0    31-35\n",
       "1    26-30\n",
       "2    21-25\n",
       "3    18-20\n",
       "4      >36\n",
       "5      <18\n",
       "dtype: object"
      ]
     },
     "execution_count": 5,
     "metadata": {},
     "output_type": "execute_result"
    }
   ],
   "source": [
    "pd.Series(students.Age.unique())"
   ]
  },
  {
   "cell_type": "markdown",
   "metadata": {},
   "source": [
    "Visualises a histogram of age categories."
   ]
  },
  {
   "cell_type": "code",
   "execution_count": 6,
   "metadata": {},
   "outputs": [
    {
     "data": {
      "text/plain": [
       "Text(0, 0.5, 'Frequency')"
      ]
     },
     "execution_count": 6,
     "metadata": {},
     "output_type": "execute_result"
    },
    {
     "data": {
      "image/png": "[encoded data removed]",
      "text/plain": [
       "<Figure size 432x288 with 1 Axes>"
      ]
     },
     "metadata": {},
     "output_type": "display_data"
    }
   ],
   "source": [
    "sns.set_style('whitegrid') # style\n",
    "students['Age'].hist(bins=6) # number of bins for the x-axis\n",
    "plt.rcParams.update({'font.size': 15}) # font size\n",
    "plt.xlabel('Age') # label of x-axis\n",
    "plt.ylabel('Frequency') # label of y-axis"
   ]
  },
  {
   "cell_type": "markdown",
   "metadata": {},
   "source": [
    "Lists gender categories"
   ]
  },
  {
   "cell_type": "code",
   "execution_count": 7,
   "metadata": {},
   "outputs": [
    {
     "data": {
      "text/plain": [
       "0    M\n",
       "1    F\n",
       "dtype: object"
      ]
     },
     "execution_count": 7,
     "metadata": {},
     "output_type": "execute_result"
    }
   ],
   "source": [
    "pd.Series(students.Gender.unique())"
   ]
  },
  {
   "cell_type": "markdown",
   "metadata": {},
   "source": [
    "Counts how many of each gender have enrolled in the courses."
   ]
  },
  {
   "cell_type": "code",
   "execution_count": 8,
   "metadata": {},
   "outputs": [
    {
     "data": {
      "text/plain": [
       "F    63\n",
       "M    62\n",
       "Name: Gender, dtype: int64"
      ]
     },
     "execution_count": 8,
     "metadata": {},
     "output_type": "execute_result"
    }
   ],
   "source": [
    "students.Gender.value_counts()"
   ]
  },
  {
   "cell_type": "markdown",
   "metadata": {},
   "source": [
    "Gender count is roughly equivalent."
   ]
  },
  {
   "cell_type": "markdown",
   "metadata": {},
   "source": [
    "Counts the number of people enrolled in each course"
   ]
  },
  {
   "cell_type": "code",
   "execution_count": 9,
   "metadata": {},
   "outputs": [
    {
     "data": {
      "text/plain": [
       "Business                          80\n",
       "Law/Legal studies                 14\n",
       "Social Sciences and Humanities    11\n",
       "Art and Design                     7\n",
       "Computing                          6\n",
       "Science and engineering            4\n",
       "Media and Communications           3\n",
       "Name: Course, dtype: int64"
      ]
     },
     "execution_count": 9,
     "metadata": {},
     "output_type": "execute_result"
    }
   ],
   "source": [
    "students['Course'].value_counts()"
   ]
  },
  {
   "cell_type": "markdown",
   "metadata": {},
   "source": [
    "Plots the number of people enrolled in each course, broken down by gender"
   ]
  },
  {
   "cell_type": "code",
   "execution_count": 10,
   "metadata": {},
   "outputs": [
    {
     "data": {
      "text/plain": [
       "<matplotlib.axes._subplots.AxesSubplot at 0x27c3c039908>"
      ]
     },
     "execution_count": 10,
     "metadata": {},
     "output_type": "execute_result"
    },
    {
     "data": {
      "image/png": "[encoded data removed]",
      "text/plain": [
       "<Figure size 864x360 with 1 Axes>"
      ]
     },
     "metadata": {},
     "output_type": "display_data"
    }
   ],
   "source": [
    "plt.figure(figsize=(12, 5))\n",
    "plt.rcParams.update({'font.size': 14})\n",
    "sns.countplot(y='Course', hue='Gender', data=students)"
   ]
  },
  {
   "cell_type": "markdown",
   "metadata": {},
   "source": [
    "Students taking Business vastly outnumber students in other programs. There are slightly more males enrolled in the programme compared to females."
   ]
  },
  {
   "cell_type": "markdown",
   "metadata": {},
   "source": [
    "Checks number of unique nationalities."
   ]
  },
  {
   "cell_type": "code",
   "execution_count": 11,
   "metadata": {},
   "outputs": [
    {
     "data": {
      "text/plain": [
       "0                   Korea\n",
       "1                   China\n",
       "2                   Kenya\n",
       "3                 Vietnam\n",
       "4                   India\n",
       "5            Saudi Arabia\n",
       "6                Tanzania\n",
       "7                    Oman\n",
       "8                  Jordan\n",
       "9                Zimbabwe\n",
       "10               Portugal\n",
       "11                Georgia\n",
       "12              Singapore\n",
       "13               Malaysia\n",
       "14                  Qatar\n",
       "15                 Turkey\n",
       "16                 Kuwait\n",
       "17                  OCEAN\n",
       "18                     UK\n",
       "19               Pakistan\n",
       "20               Thailand\n",
       "21              Indonesia\n",
       "22    Trinidad and Tobago\n",
       "23               Colombia\n",
       "24                  Gongo\n",
       "25                Ukraine\n",
       "dtype: object"
      ]
     },
     "execution_count": 11,
     "metadata": {},
     "output_type": "execute_result"
    }
   ],
   "source": [
    "pd.Series(students.Nationality.unique())"
   ]
  },
  {
   "cell_type": "markdown",
   "metadata": {},
   "source": [
    "Counts students by Nationality"
   ]
  },
  {
   "cell_type": "code",
   "execution_count": 12,
   "metadata": {},
   "outputs": [
    {
     "data": {
      "text/plain": [
       "China                  77\n",
       "Korea                   6\n",
       "Saudi Arabia            6\n",
       "Oman                    5\n",
       "Vietnam                 3\n",
       "India                   3\n",
       "Tanzania                2\n",
       "Turkey                  2\n",
       "Zimbabwe                2\n",
       "Qatar                   2\n",
       "Kuwait                  2\n",
       "OCEAN                   1\n",
       "Kenya                   1\n",
       "Jordan                  1\n",
       "UK                      1\n",
       "Singapore               1\n",
       "Malaysia                1\n",
       "Trinidad and Tobago     1\n",
       "Indonesia               1\n",
       "Pakistan                1\n",
       "Portugal                1\n",
       "Colombia                1\n",
       "Thailand                1\n",
       "Ukraine                 1\n",
       "Georgia                 1\n",
       "Gongo                   1\n",
       "Name: Nationality, dtype: int64"
      ]
     },
     "execution_count": 12,
     "metadata": {},
     "output_type": "execute_result"
    }
   ],
   "source": [
    "students['Nationality'].value_counts()"
   ]
  },
  {
   "cell_type": "markdown",
   "metadata": {},
   "source": [
    "Visualises student count by Nationality"
   ]
  },
  {
   "cell_type": "code",
   "execution_count": 13,
   "metadata": {},
   "outputs": [
    {
     "data": {
      "text/plain": [
       "<matplotlib.axes._subplots.AxesSubplot at 0x27c3c1b0a88>"
      ]
     },
     "execution_count": 13,
     "metadata": {},
     "output_type": "execute_result"
    },
    {
     "data": {
      "image/png": "[encoded data removed]",
      "text/plain": [
       "<Figure size 864x576 with 1 Axes>"
      ]
     },
     "metadata": {},
     "output_type": "display_data"
    }
   ],
   "source": [
    "plt.figure(figsize=(12, 8))\n",
    "plt.rcParams.update({'font.size': 14})\n",
    "sns.countplot(y='Nationality',data=students)"
   ]
  },
  {
   "cell_type": "markdown",
   "metadata": {},
   "source": [
    "Most students appear to be from China."
   ]
  },
  {
   "cell_type": "markdown",
   "metadata": {},
   "source": [
    "Plots number of students enrolled in each program."
   ]
  },
  {
   "cell_type": "code",
   "execution_count": 14,
   "metadata": {},
   "outputs": [
    {
     "data": {
      "text/plain": [
       "Text(0.5, 1.0, 'Program')"
      ]
     },
     "execution_count": 14,
     "metadata": {},
     "output_type": "execute_result"
    },
    {
     "data": {
      "image/png": "[encoded data removed]",
      "text/plain": [
       "<Figure size 864x288 with 1 Axes>"
      ]
     },
     "metadata": {},
     "output_type": "display_data"
    }
   ],
   "source": [
    "plt.figure(figsize=(12, 4))\n",
    "plt.rcParams.update({'font.size': 12})\n",
    "sns.countplot(y='Program',data=students)\n",
    "plt.title('Program')"
   ]
  },
  {
   "cell_type": "markdown",
   "metadata": {},
   "source": [
    "Plots Academic Performance of students."
   ]
  },
  {
   "cell_type": "code",
   "execution_count": 15,
   "metadata": {},
   "outputs": [
    {
     "data": {
      "text/plain": [
       "Text(0.5, 1.0, 'Academic Performance')"
      ]
     },
     "execution_count": 15,
     "metadata": {},
     "output_type": "execute_result"
    },
    {
     "data": {
      "image/png": "[encoded data removed]",
      "text/plain": [
       "<Figure size 864x288 with 1 Axes>"
      ]
     },
     "metadata": {},
     "output_type": "display_data"
    }
   ],
   "source": [
    "plt.figure(figsize=(12, 4))\n",
    "plt.rcParams.update({'font.size': 12})\n",
    "sns.countplot(y='Academic',data=students)\n",
    "plt.title('Academic Performance')"
   ]
  },
  {
   "cell_type": "markdown",
   "metadata": {},
   "source": [
    "Plot Attendance Levels of students"
   ]
  },
  {
   "cell_type": "code",
   "execution_count": 16,
   "metadata": {},
   "outputs": [
    {
     "data": {
      "text/plain": [
       "Text(0.5, 1.0, 'Attendance: S0 = highest attendance; S4 = lowest attendance')"
      ]
     },
     "execution_count": 16,
     "metadata": {},
     "output_type": "execute_result"
    },
    {
     "data": {
      "image/png": "[encoded data removed]",
      "text/plain": [
       "<Figure size 864x288 with 1 Axes>"
      ]
     },
     "metadata": {},
     "output_type": "display_data"
    }
   ],
   "source": [
    "plt.figure(figsize=(12, 4))\n",
    "plt.rcParams.update({'font.size': 12})\n",
    "sns.countplot(y='Attendance',data=students)\n",
    "plt.title('Attendance: S0 = highest attendance; S4 = lowest attendance')"
   ]
  },
  {
   "cell_type": "markdown",
   "metadata": {},
   "source": [
    "## Time Management Questionnaire"
   ]
  },
  {
   "cell_type": "markdown",
   "metadata": {},
   "source": [
    "The following plots depict gender differences for each questionnaire item. Value counts are shown for each unique label."
   ]
  },
  {
   "cell_type": "markdown",
   "metadata": {},
   "source": [
    "Item 6"
   ]
  },
  {
   "cell_type": "code",
   "execution_count": 17,
   "metadata": {},
   "outputs": [
    {
     "data": {
      "text/plain": [
       "0           Disagree\n",
       "1       Strong Agree\n",
       "2            Neither\n",
       "3              Agree\n",
       "4    Strong Disagree\n",
       "5                NaN\n",
       "dtype: object"
      ]
     },
     "execution_count": 17,
     "metadata": {},
     "output_type": "execute_result"
    }
   ],
   "source": [
    "pd.Series(students['6'].unique())"
   ]
  },
  {
   "cell_type": "markdown",
   "metadata": {},
   "source": [
    "\n",
    "\n"
   ]
  },
  {
   "cell_type": "code",
   "execution_count": 18,
   "metadata": {},
   "outputs": [
    {
     "data": {
      "text/plain": [
       "Text(0.5, 1.0, 'You often feel that your life is aimless, with no definite purpose')"
      ]
     },
     "execution_count": 18,
     "metadata": {},
     "output_type": "execute_result"
    },
    {
     "data": {
      "image/png": "[encoded data removed]",
      "text/plain": [
       "<Figure size 864x288 with 1 Axes>"
      ]
     },
     "metadata": {},
     "output_type": "display_data"
    }
   ],
   "source": [
    "plt.figure(figsize=(12, 4))\n",
    "plt.rcParams.update({'font.size': 12})\n",
    "sns.countplot(y='6',hue='Gender',data=students)\n",
    "plt.title('You often feel that your life is aimless, with no definite purpose')"
   ]
  },
  {
   "cell_type": "markdown",
   "metadata": {},
   "source": [
    "Item 7"
   ]
  },
  {
   "cell_type": "code",
   "execution_count": 19,
   "metadata": {},
   "outputs": [
    {
     "data": {
      "text/plain": [
       "0              Agree\n",
       "1       Strong Agree\n",
       "2           Disagree\n",
       "3            Neither\n",
       "4    Strong Disagree\n",
       "dtype: object"
      ]
     },
     "execution_count": 19,
     "metadata": {},
     "output_type": "execute_result"
    }
   ],
   "source": [
    "pd.Series(students['7'].unique())"
   ]
  },
  {
   "cell_type": "code",
   "execution_count": 20,
   "metadata": {},
   "outputs": [
    {
     "data": {
      "text/plain": [
       "Text(0.5, 1.0, 'You never have trouble organising the things you have to do')"
      ]
     },
     "execution_count": 20,
     "metadata": {},
     "output_type": "execute_result"
    },
    {
     "data": {
      "image/png": "[encoded data removed]",
      "text/plain": [
       "<Figure size 864x288 with 1 Axes>"
      ]
     },
     "metadata": {},
     "output_type": "display_data"
    }
   ],
   "source": [
    "plt.figure(figsize=(12, 4))\n",
    "plt.rcParams.update({'font.size': 12})\n",
    "sns.countplot(y='7',hue='Gender',data=students)\n",
    "plt.title('You never have trouble organising the things you have to do')"
   ]
  },
  {
   "cell_type": "markdown",
   "metadata": {},
   "source": [
    "Item 8"
   ]
  },
  {
   "cell_type": "code",
   "execution_count": 21,
   "metadata": {},
   "outputs": [
    {
     "data": {
      "text/plain": [
       "0       Strong Agree\n",
       "1            Neither\n",
       "2              Agree\n",
       "3    Strong Disagree\n",
       "4           Disagree\n",
       "5                NaN\n",
       "dtype: object"
      ]
     },
     "execution_count": 21,
     "metadata": {},
     "output_type": "execute_result"
    }
   ],
   "source": [
    "pd.Series(students['8'].unique())"
   ]
  },
  {
   "cell_type": "code",
   "execution_count": 22,
   "metadata": {},
   "outputs": [
    {
     "data": {
      "text/plain": [
       "Text(0.5, 1.0, \"Once you've started an activity, you persist at it until you've completed it\")"
      ]
     },
     "execution_count": 22,
     "metadata": {},
     "output_type": "execute_result"
    },
    {
     "data": {
      "image/png": "[encoded data removed]",
      "text/plain": [
       "<Figure size 864x288 with 1 Axes>"
      ]
     },
     "metadata": {},
     "output_type": "display_data"
    }
   ],
   "source": [
    "plt.figure(figsize=(12, 4))\n",
    "plt.rcParams.update({'font.size': 12})\n",
    "sns.countplot(y='8',hue='Gender',data=students)\n",
    "plt.title('Once you\\'ve started an activity, you persist at it until you\\'ve completed it')"
   ]
  },
  {
   "cell_type": "markdown",
   "metadata": {},
   "source": [
    "Item 9"
   ]
  },
  {
   "cell_type": "code",
   "execution_count": 23,
   "metadata": {},
   "outputs": [
    {
     "data": {
      "text/plain": [
       "0            Neither\n",
       "1           Disagree\n",
       "2              Agree\n",
       "3       Strong Agree\n",
       "4    Strong Disagree\n",
       "5                NaN\n",
       "dtype: object"
      ]
     },
     "execution_count": 23,
     "metadata": {},
     "output_type": "execute_result"
    }
   ],
   "source": [
    "pd.Series(students['9'].unique())"
   ]
  },
  {
   "cell_type": "code",
   "execution_count": 24,
   "metadata": {},
   "outputs": [
    {
     "data": {
      "text/plain": [
       "Text(0.5, 1.0, \"Sometimes you feel that the things you have to do during the day just don't seem to matter\")"
      ]
     },
     "execution_count": 24,
     "metadata": {},
     "output_type": "execute_result"
    },
    {
     "data": {
      "image/png": "[encoded data removed]",
      "text/plain": [
       "<Figure size 864x288 with 1 Axes>"
      ]
     },
     "metadata": {},
     "output_type": "display_data"
    }
   ],
   "source": [
    "plt.figure(figsize=(12, 4))\n",
    "plt.rcParams.update({'font.size': 12})\n",
    "sns.countplot(y='9',hue='Gender',data=students)\n",
    "plt.title('Sometimes you feel that the things you have to do during the day just don\\'t seem to matter')"
   ]
  },
  {
   "cell_type": "markdown",
   "metadata": {},
   "source": [
    "Item 10"
   ]
  },
  {
   "cell_type": "code",
   "execution_count": 25,
   "metadata": {},
   "outputs": [
    {
     "data": {
      "text/plain": [
       "0              Agree\n",
       "1           Disagree\n",
       "2            Neither\n",
       "3       Strong Agree\n",
       "4    Strong Disagree\n",
       "5                NaN\n",
       "dtype: object"
      ]
     },
     "execution_count": 25,
     "metadata": {},
     "output_type": "execute_result"
    }
   ],
   "source": [
    "pd.Series(students['10'].unique())"
   ]
  },
  {
   "cell_type": "code",
   "execution_count": 26,
   "metadata": {},
   "outputs": [
    {
     "data": {
      "text/plain": [
       "Text(0.5, 1.0, 'You will plan your activities from day to day')"
      ]
     },
     "execution_count": 26,
     "metadata": {},
     "output_type": "execute_result"
    },
    {
     "data": {
      "image/png": "[encoded data removed]",
      "text/plain": [
       "<Figure size 864x288 with 1 Axes>"
      ]
     },
     "metadata": {},
     "output_type": "display_data"
    }
   ],
   "source": [
    "plt.figure(figsize=(12, 4))\n",
    "plt.rcParams.update({'font.size': 12})\n",
    "sns.countplot(y='10',hue='Gender',data=students)\n",
    "plt.title('You will plan your activities from day to day')"
   ]
  },
  {
   "cell_type": "markdown",
   "metadata": {},
   "source": [
    "Item 11"
   ]
  },
  {
   "cell_type": "code",
   "execution_count": 27,
   "metadata": {},
   "outputs": [
    {
     "data": {
      "text/plain": [
       "0            Neither\n",
       "1              Agree\n",
       "2           Disagree\n",
       "3    Strong Disagree\n",
       "4       Strong Agree\n",
       "5                NaN\n",
       "dtype: object"
      ]
     },
     "execution_count": 27,
     "metadata": {},
     "output_type": "execute_result"
    }
   ],
   "source": [
    "pd.Series(students['11'].unique())"
   ]
  },
  {
   "cell_type": "code",
   "execution_count": 28,
   "metadata": {},
   "outputs": [
    {
     "data": {
      "text/plain": [
       "Text(0.5, 1.0, 'You tend to leave things to last minute')"
      ]
     },
     "execution_count": 28,
     "metadata": {},
     "output_type": "execute_result"
    },
    {
     "data": {
      "image/png": "[encoded data removed]",
      "text/plain": [
       "<Figure size 864x288 with 1 Axes>"
      ]
     },
     "metadata": {},
     "output_type": "display_data"
    }
   ],
   "source": [
    "plt.figure(figsize=(12, 4))\n",
    "plt.rcParams.update({'font.size': 12})\n",
    "sns.countplot(y='11',hue='Gender',data=students)\n",
    "plt.title('You tend to leave things to last minute')"
   ]
  },
  {
   "cell_type": "markdown",
   "metadata": {},
   "source": [
    "Item 12"
   ]
  },
  {
   "cell_type": "code",
   "execution_count": 29,
   "metadata": {},
   "outputs": [
    {
     "data": {
      "text/plain": [
       "0           Disagree\n",
       "1            Neither\n",
       "2       Strong Agree\n",
       "3              Agree\n",
       "4    Strong Disagree\n",
       "5                NaN\n",
       "dtype: object"
      ]
     },
     "execution_count": 29,
     "metadata": {},
     "output_type": "execute_result"
    }
   ],
   "source": [
    "pd.Series(students['12'].unique())"
   ]
  },
  {
   "cell_type": "code",
   "execution_count": 30,
   "metadata": {},
   "outputs": [
    {
     "data": {
      "text/plain": [
       "Text(0.5, 1.0, 'You tend to change rather aimlessly from one activity to another during the day')"
      ]
     },
     "execution_count": 30,
     "metadata": {},
     "output_type": "execute_result"
    },
    {
     "data": {
      "image/png": "[encoded data removed]",
      "text/plain": [
       "<Figure size 864x288 with 1 Axes>"
      ]
     },
     "metadata": {},
     "output_type": "display_data"
    }
   ],
   "source": [
    "plt.figure(figsize=(12, 4))\n",
    "plt.rcParams.update({'font.size': 12})\n",
    "sns.countplot(y='12',hue='Gender',data=students)\n",
    "plt.title('You tend to change rather aimlessly from one activity to another during the day')"
   ]
  },
  {
   "cell_type": "markdown",
   "metadata": {},
   "source": [
    "Item 13"
   ]
  },
  {
   "cell_type": "code",
   "execution_count": 31,
   "metadata": {},
   "outputs": [
    {
     "data": {
      "text/plain": [
       "0    Strong Disagree\n",
       "1            Neither\n",
       "2              Agree\n",
       "3           Disagree\n",
       "4       Strong Agree\n",
       "dtype: object"
      ]
     },
     "execution_count": 31,
     "metadata": {},
     "output_type": "execute_result"
    }
   ],
   "source": [
    "pd.Series(students['13'].unique())"
   ]
  },
  {
   "cell_type": "code",
   "execution_count": 32,
   "metadata": {},
   "outputs": [
    {
     "data": {
      "text/plain": [
       "Text(0.5, 1.0, 'You give up the things that you were planning to do just because your friend says no')"
      ]
     },
     "execution_count": 32,
     "metadata": {},
     "output_type": "execute_result"
    },
    {
     "data": {
      "image/png": "[encoded data removed]",
      "text/plain": [
       "<Figure size 864x288 with 1 Axes>"
      ]
     },
     "metadata": {},
     "output_type": "display_data"
    }
   ],
   "source": [
    "plt.figure(figsize=(12, 4))\n",
    "plt.rcParams.update({'font.size': 12})\n",
    "sns.countplot(y='13',hue='Gender',data=students)\n",
    "plt.title('You give up the things that you were planning to do just because your friend says no')"
   ]
  },
  {
   "cell_type": "markdown",
   "metadata": {},
   "source": [
    "Item 14"
   ]
  },
  {
   "cell_type": "code",
   "execution_count": 33,
   "metadata": {},
   "outputs": [
    {
     "data": {
      "text/plain": [
       "0       Strong Agree\n",
       "1            Neither\n",
       "2           Disagree\n",
       "3              Agree\n",
       "4    Strong Disagree\n",
       "5                NaN\n",
       "dtype: object"
      ]
     },
     "execution_count": 33,
     "metadata": {},
     "output_type": "execute_result"
    }
   ],
   "source": [
    "pd.Series(students['14'].unique())"
   ]
  },
  {
   "cell_type": "code",
   "execution_count": 34,
   "metadata": {},
   "outputs": [
    {
     "data": {
      "text/plain": [
       "Text(0.5, 1.0, 'You think you do enough with your time')"
      ]
     },
     "execution_count": 34,
     "metadata": {},
     "output_type": "execute_result"
    },
    {
     "data": {
      "image/png": "[encoded data removed]",
      "text/plain": [
       "<Figure size 864x288 with 1 Axes>"
      ]
     },
     "metadata": {},
     "output_type": "display_data"
    }
   ],
   "source": [
    "plt.figure(figsize=(12, 4))\n",
    "plt.rcParams.update({'font.size': 12})\n",
    "sns.countplot(y='14',hue='Gender',data=students)\n",
    "plt.title('You think you do enough with your time')"
   ]
  },
  {
   "cell_type": "markdown",
   "metadata": {},
   "source": [
    "Item 15"
   ]
  },
  {
   "cell_type": "code",
   "execution_count": 35,
   "metadata": {},
   "outputs": [
    {
     "data": {
      "text/plain": [
       "0            Neither\n",
       "1              Agree\n",
       "2       Strong Agree\n",
       "3           Disagree\n",
       "4    Strong Disagree\n",
       "dtype: object"
      ]
     },
     "execution_count": 35,
     "metadata": {},
     "output_type": "execute_result"
    }
   ],
   "source": [
    "pd.Series(students['15'].unique())"
   ]
  },
  {
   "cell_type": "code",
   "execution_count": 36,
   "metadata": {},
   "outputs": [
    {
     "data": {
      "text/plain": [
       "Text(0.5, 1.0, 'You are easy to get bored with your day-to-day activities')"
      ]
     },
     "execution_count": 36,
     "metadata": {},
     "output_type": "execute_result"
    },
    {
     "data": {
      "image/png": "[encoded data removed]",
      "text/plain": [
       "<Figure size 864x288 with 1 Axes>"
      ]
     },
     "metadata": {},
     "output_type": "display_data"
    }
   ],
   "source": [
    "plt.figure(figsize=(12, 4))\n",
    "plt.rcParams.update({'font.size': 12})\n",
    "sns.countplot(y='15',hue='Gender',data=students)\n",
    "plt.title('You are easy to get bored with your day-to-day activities')"
   ]
  },
  {
   "cell_type": "markdown",
   "metadata": {},
   "source": [
    "Item 16"
   ]
  },
  {
   "cell_type": "code",
   "execution_count": 37,
   "metadata": {},
   "outputs": [
    {
     "data": {
      "text/plain": [
       "0           Disagree\n",
       "1            Neither\n",
       "2       Strong Agree\n",
       "3    Strong Disagree\n",
       "4              Agree\n",
       "5                NaN\n",
       "dtype: object"
      ]
     },
     "execution_count": 37,
     "metadata": {},
     "output_type": "execute_result"
    }
   ],
   "source": [
    "pd.Series(students['16'].unique())"
   ]
  },
  {
   "cell_type": "code",
   "execution_count": 38,
   "metadata": {},
   "outputs": [
    {
     "data": {
      "text/plain": [
       "Text(0.5, 1.0, 'The important interests/activities in your life tend to change frequently')"
      ]
     },
     "execution_count": 38,
     "metadata": {},
     "output_type": "execute_result"
    },
    {
     "data": {
      "image/png": "[encoded data removed]",
      "text/plain": [
       "<Figure size 864x288 with 1 Axes>"
      ]
     },
     "metadata": {},
     "output_type": "display_data"
    }
   ],
   "source": [
    "plt.figure(figsize=(12, 4))\n",
    "plt.rcParams.update({'font.size': 12})\n",
    "sns.countplot(y='16',hue='Gender',data=students)\n",
    "plt.title('The important interests/activities in your life tend to change frequently')"
   ]
  },
  {
   "cell_type": "markdown",
   "metadata": {},
   "source": [
    "Item 17"
   ]
  },
  {
   "cell_type": "code",
   "execution_count": 39,
   "metadata": {},
   "outputs": [
    {
     "data": {
      "text/plain": [
       "0              Agree\n",
       "1           Disagree\n",
       "2       Strong Agree\n",
       "3            Neither\n",
       "4    Strong Disagree\n",
       "5                NaN\n",
       "dtype: object"
      ]
     },
     "execution_count": 39,
     "metadata": {},
     "output_type": "execute_result"
    }
   ],
   "source": [
    "pd.Series(students['17'].unique())"
   ]
  },
  {
   "cell_type": "code",
   "execution_count": 40,
   "metadata": {},
   "outputs": [
    {
     "data": {
      "text/plain": [
       "Text(0.5, 1.0, 'You know how much time you spend on each of the homework you do')"
      ]
     },
     "execution_count": 40,
     "metadata": {},
     "output_type": "execute_result"
    },
    {
     "data": {
      "image/png": "[encoded data removed]",
      "text/plain": [
       "<Figure size 864x288 with 1 Axes>"
      ]
     },
     "metadata": {},
     "output_type": "display_data"
    }
   ],
   "source": [
    "plt.figure(figsize=(12, 4))\n",
    "plt.rcParams.update({'font.size': 12})\n",
    "sns.countplot(y='17',hue='Gender',data=students)\n",
    "plt.title('You know how much time you spend on each of the homework you do')"
   ]
  },
  {
   "cell_type": "markdown",
   "metadata": {},
   "source": [
    "Plots the Academic marks by Attendence levels."
   ]
  },
  {
   "cell_type": "code",
   "execution_count": 41,
   "metadata": {},
   "outputs": [
    {
     "data": {
      "text/plain": [
       "<matplotlib.axes._subplots.AxesSubplot at 0x27c3dcb6ec8>"
      ]
     },
     "execution_count": 41,
     "metadata": {},
     "output_type": "execute_result"
    },
    {
     "data": {
      "image/png": "[encoded data removed]",
      "text/plain": [
       "<Figure size 1080x648 with 1 Axes>"
      ]
     },
     "metadata": {},
     "output_type": "display_data"
    }
   ],
   "source": [
    "plt.figure(figsize=(15, 9))\n",
    "plt.rcParams.update({'font.size': 12})\n",
    "sns.countplot(y='Academic', hue='Attendance', data=students)"
   ]
  },
  {
   "cell_type": "markdown",
   "metadata": {},
   "source": [
    "Lists unique values in Attendance column"
   ]
  },
  {
   "cell_type": "code",
   "execution_count": 42,
   "metadata": {},
   "outputs": [
    {
     "data": {
      "text/plain": [
       "0     S0\n",
       "1     S3\n",
       "2     S1\n",
       "3     S2\n",
       "4     S4\n",
       "5    NaN\n",
       "dtype: object"
      ]
     },
     "execution_count": 42,
     "metadata": {},
     "output_type": "execute_result"
    }
   ],
   "source": [
    "pd.Series(students['Attendance'].unique())"
   ]
  },
  {
   "cell_type": "markdown",
   "metadata": {},
   "source": [
    "## Deep Learning Prerequisites - Creating dummy variables"
   ]
  },
  {
   "cell_type": "markdown",
   "metadata": {},
   "source": [
    "After having a look at the available features, we will see if we can predict Attendance using these self-rated time management scores and Gender. However, depending on the performance of the model, we can incorporate fewer or more features as necessary, or construct new summary features to reduce dimensionality of the input variables."
   ]
  },
  {
   "cell_type": "markdown",
   "metadata": {},
   "source": [
    "First, create dummy variables that split categorical variables into multiple columns. As with linear regression models, dummy variables can be used to model categorical features in deep learning models."
   ]
  },
  {
   "cell_type": "code",
   "execution_count": 43,
   "metadata": {},
   "outputs": [],
   "source": [
    "# Create dummy variables for Questionnaire items and append original Students table with new dummy variables. \n",
    "# Simultaneously drops the original columns for the questionnaires.\n",
    "x_dummies = pd.get_dummies(students[['Gender','6', '7','8','9','10','11','12','13','14','15','16','17']],\n",
    "                           dummy_na=True,drop_first=True)\n",
    "\n",
    "# Don't drop first column as this is needed for labelling. \n",
    "# Column for NaN's included.\n",
    "y_dummies = pd.get_dummies(students[['Attendance']], dummy_na=True) \n",
    "\n",
    "# Remove old columns.\n",
    "students = students.drop(['Gender','Attendance','6', '7','8','9','10','11','12','13','14','15','16','17'],axis=1) \n",
    "students = pd.concat([students,x_dummies,y_dummies],axis=1)"
   ]
  },
  {
   "cell_type": "markdown",
   "metadata": {},
   "source": [
    "Check that dummy variables have been encoded correctly."
   ]
  },
  {
   "cell_type": "code",
   "execution_count": 44,
   "metadata": {},
   "outputs": [
    {
     "name": "stdout",
     "output_type": "stream",
     "text": [
      "<class 'pandas.core.frame.DataFrame'>\n",
      "RangeIndex: 125 entries, 0 to 124\n",
      "Data columns (total 75 columns):\n",
      "Number                125 non-null int64\n",
      "Age                   125 non-null object\n",
      "Nationality           125 non-null object\n",
      "Program               125 non-null object\n",
      "Course                125 non-null object\n",
      "English               119 non-null object\n",
      "Academic              103 non-null object\n",
      "Gender_M              125 non-null uint8\n",
      "Gender_nan            125 non-null uint8\n",
      "6_Disagree            125 non-null uint8\n",
      "6_Neither             125 non-null uint8\n",
      "6_Strong Agree        125 non-null uint8\n",
      "6_Strong Disagree     125 non-null uint8\n",
      "6_nan                 125 non-null uint8\n",
      "7_Disagree            125 non-null uint8\n",
      "7_Neither             125 non-null uint8\n",
      "7_Strong Agree        125 non-null uint8\n",
      "7_Strong Disagree     125 non-null uint8\n",
      "7_nan                 125 non-null uint8\n",
      "8_Disagree            125 non-null uint8\n",
      "8_Neither             125 non-null uint8\n",
      "8_Strong Agree        125 non-null uint8\n",
      "8_Strong Disagree     125 non-null uint8\n",
      "8_nan                 125 non-null uint8\n",
      "9_Disagree            125 non-null uint8\n",
      "9_Neither             125 non-null uint8\n",
      "9_Strong Agree        125 non-null uint8\n",
      "9_Strong Disagree     125 non-null uint8\n",
      "9_nan                 125 non-null uint8\n",
      "10_Disagree           125 non-null uint8\n",
      "10_Neither            125 non-null uint8\n",
      "10_Strong Agree       125 non-null uint8\n",
      "10_Strong Disagree    125 non-null uint8\n",
      "10_nan                125 non-null uint8\n",
      "11_Disagree           125 non-null uint8\n",
      "11_Neither            125 non-null uint8\n",
      "11_Strong Agree       125 non-null uint8\n",
      "11_Strong Disagree    125 non-null uint8\n",
      "11_nan                125 non-null uint8\n",
      "12_Disagree           125 non-null uint8\n",
      "12_Neither            125 non-null uint8\n",
      "12_Strong Agree       125 non-null uint8\n",
      "12_Strong Disagree    125 non-null uint8\n",
      "12_nan                125 non-null uint8\n",
      "13_Disagree           125 non-null uint8\n",
      "13_Neither            125 non-null uint8\n",
      "13_Strong Agree       125 non-null uint8\n",
      "13_Strong Disagree    125 non-null uint8\n",
      "13_nan                125 non-null uint8\n",
      "14_Disagree           125 non-null uint8\n",
      "14_Neither            125 non-null uint8\n",
      "14_Strong Agree       125 non-null uint8\n",
      "14_Strong Disagree    125 non-null uint8\n",
      "14_nan                125 non-null uint8\n",
      "15_Disagree           125 non-null uint8\n",
      "15_Neither            125 non-null uint8\n",
      "15_Strong Agree       125 non-null uint8\n",
      "15_Strong Disagree    125 non-null uint8\n",
      "15_nan                125 non-null uint8\n",
      "16_Disagree           125 non-null uint8\n",
      "16_Neither            125 non-null uint8\n",
      "16_Strong Agree       125 non-null uint8\n",
      "16_Strong Disagree    125 non-null uint8\n",
      "16_nan                125 non-null uint8\n",
      "17_Disagree           125 non-null uint8\n",
      "17_Neither            125 non-null uint8\n",
      "17_Strong Agree       125 non-null uint8\n",
      "17_Strong Disagree    125 non-null uint8\n",
      "17_nan                125 non-null uint8\n",
      "Attendance_S0         125 non-null uint8\n",
      "Attendance_S1         125 non-null uint8\n",
      "Attendance_S2         125 non-null uint8\n",
      "Attendance_S3         125 non-null uint8\n",
      "Attendance_S4         125 non-null uint8\n",
      "Attendance_nan        125 non-null uint8\n",
      "dtypes: int64(1), object(6), uint8(68)\n",
      "memory usage: 15.3+ KB\n"
     ]
    }
   ],
   "source": [
    "students.info()"
   ]
  },
  {
   "cell_type": "markdown",
   "metadata": {},
   "source": [
    "Set X (features) and y (Attendance) variables. X is a list of predictors and y is the predicted variable."
   ]
  },
  {
   "cell_type": "markdown",
   "metadata": {},
   "source": [
    "Select just the questionnaire and Gender dummy variables for training, assigned to X."
   ]
  },
  {
   "cell_type": "code",
   "execution_count": 45,
   "metadata": {},
   "outputs": [],
   "source": [
    "X = students.drop(['Number','Age','Nationality','Program','Course','English','Academic'],axis=1).values"
   ]
  },
  {
   "cell_type": "markdown",
   "metadata": {},
   "source": [
    "Select just the Attendance scores, including a column for NaN's to help with labelling."
   ]
  },
  {
   "cell_type": "code",
   "execution_count": 46,
   "metadata": {},
   "outputs": [],
   "source": [
    "y = students[['Attendance_S0','Attendance_S1','Attendance_S2','Attendance_S3','Attendance_S4','Attendance_nan']].values"
   ]
  },
  {
   "cell_type": "markdown",
   "metadata": {},
   "source": [
    "Check that the y array has been created properly for training. Each row should reflect which categorical label has been selected indicating Attendance. "
   ]
  },
  {
   "cell_type": "code",
   "execution_count": 47,
   "metadata": {},
   "outputs": [
    {
     "data": {
      "text/plain": [
       "array([[1, 0, 0, 0, 0, 0],\n",
       "       [0, 0, 0, 1, 0, 0],\n",
       "       [1, 0, 0, 0, 0, 0],\n",
       "       [1, 0, 0, 0, 0, 0],\n",
       "       [0, 1, 0, 0, 0, 0],\n",
       "       [1, 0, 0, 0, 0, 0],\n",
       "       [1, 0, 0, 0, 0, 0],\n",
       "       [1, 0, 0, 0, 0, 0],\n",
       "       [1, 0, 0, 0, 0, 0],\n",
       "       [1, 0, 0, 0, 0, 0],\n",
       "       [0, 1, 0, 0, 0, 0],\n",
       "       [0, 1, 0, 0, 0, 0],\n",
       "       [0, 0, 0, 1, 0, 0],\n",
       "       [0, 0, 1, 0, 0, 0],\n",
       "       [0, 1, 0, 0, 0, 0],\n",
       "       [0, 1, 0, 0, 0, 0],\n",
       "       [1, 0, 0, 0, 0, 0],\n",
       "       [1, 0, 0, 0, 0, 0],\n",
       "       [1, 0, 0, 0, 0, 0],\n",
       "       [1, 0, 0, 0, 0, 0],\n",
       "       [0, 0, 0, 0, 1, 0],\n",
       "       [1, 0, 0, 0, 0, 0],\n",
       "       [1, 0, 0, 0, 0, 0],\n",
       "       [1, 0, 0, 0, 0, 0],\n",
       "       [0, 0, 0, 1, 0, 0],\n",
       "       [1, 0, 0, 0, 0, 0],\n",
       "       [0, 0, 1, 0, 0, 0],\n",
       "       [0, 0, 0, 1, 0, 0],\n",
       "       [0, 1, 0, 0, 0, 0],\n",
       "       [0, 0, 1, 0, 0, 0],\n",
       "       [0, 0, 1, 0, 0, 0],\n",
       "       [1, 0, 0, 0, 0, 0],\n",
       "       [1, 0, 0, 0, 0, 0],\n",
       "       [1, 0, 0, 0, 0, 0],\n",
       "       [0, 1, 0, 0, 0, 0],\n",
       "       [1, 0, 0, 0, 0, 0],\n",
       "       [0, 0, 0, 0, 0, 1],\n",
       "       [1, 0, 0, 0, 0, 0],\n",
       "       [0, 1, 0, 0, 0, 0],\n",
       "       [0, 0, 1, 0, 0, 0],\n",
       "       [0, 0, 1, 0, 0, 0],\n",
       "       [0, 0, 1, 0, 0, 0],\n",
       "       [0, 0, 1, 0, 0, 0],\n",
       "       [0, 0, 1, 0, 0, 0],\n",
       "       [0, 0, 0, 1, 0, 0],\n",
       "       [1, 0, 0, 0, 0, 0],\n",
       "       [0, 0, 1, 0, 0, 0],\n",
       "       [1, 0, 0, 0, 0, 0],\n",
       "       [0, 0, 0, 1, 0, 0],\n",
       "       [1, 0, 0, 0, 0, 0],\n",
       "       [1, 0, 0, 0, 0, 0],\n",
       "       [0, 0, 0, 1, 0, 0],\n",
       "       [0, 1, 0, 0, 0, 0],\n",
       "       [0, 1, 0, 0, 0, 0],\n",
       "       [0, 1, 0, 0, 0, 0],\n",
       "       [1, 0, 0, 0, 0, 0],\n",
       "       [1, 0, 0, 0, 0, 0],\n",
       "       [1, 0, 0, 0, 0, 0],\n",
       "       [1, 0, 0, 0, 0, 0],\n",
       "       [0, 1, 0, 0, 0, 0],\n",
       "       [1, 0, 0, 0, 0, 0],\n",
       "       [1, 0, 0, 0, 0, 0],\n",
       "       [1, 0, 0, 0, 0, 0],\n",
       "       [1, 0, 0, 0, 0, 0],\n",
       "       [1, 0, 0, 0, 0, 0],\n",
       "       [1, 0, 0, 0, 0, 0],\n",
       "       [0, 1, 0, 0, 0, 0],\n",
       "       [1, 0, 0, 0, 0, 0],\n",
       "       [0, 1, 0, 0, 0, 0],\n",
       "       [0, 1, 0, 0, 0, 0],\n",
       "       [0, 1, 0, 0, 0, 0],\n",
       "       [0, 1, 0, 0, 0, 0],\n",
       "       [0, 1, 0, 0, 0, 0],\n",
       "       [0, 1, 0, 0, 0, 0],\n",
       "       [1, 0, 0, 0, 0, 0],\n",
       "       [1, 0, 0, 0, 0, 0],\n",
       "       [0, 1, 0, 0, 0, 0],\n",
       "       [0, 0, 0, 0, 1, 0],\n",
       "       [0, 0, 1, 0, 0, 0],\n",
       "       [0, 1, 0, 0, 0, 0],\n",
       "       [1, 0, 0, 0, 0, 0],\n",
       "       [0, 0, 0, 1, 0, 0],\n",
       "       [1, 0, 0, 0, 0, 0],\n",
       "       [1, 0, 0, 0, 0, 0],\n",
       "       [1, 0, 0, 0, 0, 0],\n",
       "       [1, 0, 0, 0, 0, 0],\n",
       "       [1, 0, 0, 0, 0, 0],\n",
       "       [1, 0, 0, 0, 0, 0],\n",
       "       [0, 1, 0, 0, 0, 0],\n",
       "       [1, 0, 0, 0, 0, 0],\n",
       "       [1, 0, 0, 0, 0, 0],\n",
       "       [0, 1, 0, 0, 0, 0],\n",
       "       [0, 1, 0, 0, 0, 0],\n",
       "       [0, 0, 0, 0, 0, 1],\n",
       "       [0, 0, 1, 0, 0, 0],\n",
       "       [0, 1, 0, 0, 0, 0],\n",
       "       [0, 0, 0, 0, 0, 1],\n",
       "       [1, 0, 0, 0, 0, 0],\n",
       "       [1, 0, 0, 0, 0, 0],\n",
       "       [0, 0, 0, 0, 0, 1],\n",
       "       [0, 0, 0, 0, 1, 0],\n",
       "       [0, 0, 1, 0, 0, 0],\n",
       "       [0, 1, 0, 0, 0, 0],\n",
       "       [1, 0, 0, 0, 0, 0],\n",
       "       [1, 0, 0, 0, 0, 0],\n",
       "       [1, 0, 0, 0, 0, 0],\n",
       "       [1, 0, 0, 0, 0, 0],\n",
       "       [1, 0, 0, 0, 0, 0],\n",
       "       [1, 0, 0, 0, 0, 0],\n",
       "       [1, 0, 0, 0, 0, 0],\n",
       "       [0, 0, 0, 0, 0, 1],\n",
       "       [0, 0, 0, 0, 0, 1],\n",
       "       [0, 0, 0, 1, 0, 0],\n",
       "       [1, 0, 0, 0, 0, 0],\n",
       "       [1, 0, 0, 0, 0, 0],\n",
       "       [0, 1, 0, 0, 0, 0],\n",
       "       [1, 0, 0, 0, 0, 0],\n",
       "       [1, 0, 0, 0, 0, 0],\n",
       "       [1, 0, 0, 0, 0, 0],\n",
       "       [0, 0, 0, 1, 0, 0],\n",
       "       [0, 1, 0, 0, 0, 0],\n",
       "       [0, 1, 0, 0, 0, 0],\n",
       "       [1, 0, 0, 0, 0, 0],\n",
       "       [0, 1, 0, 0, 0, 0],\n",
       "       [1, 0, 0, 0, 0, 0]], dtype=uint8)"
      ]
     },
     "execution_count": 47,
     "metadata": {},
     "output_type": "execute_result"
    }
   ],
   "source": [
    "y"
   ]
  },
  {
   "cell_type": "markdown",
   "metadata": {},
   "source": [
    "# Model Selection"
   ]
  },
  {
   "cell_type": "markdown",
   "metadata": {},
   "source": [
    "Import library for splitting data into training set and test set."
   ]
  },
  {
   "cell_type": "code",
   "execution_count": 48,
   "metadata": {},
   "outputs": [],
   "source": [
    "from sklearn.model_selection import train_test_split"
   ]
  },
  {
   "cell_type": "markdown",
   "metadata": {},
   "source": [
    "Feed X and y variables into train_test_split, with a test size of 20%. A random state of 101 has been specified to get consistent results."
   ]
  },
  {
   "cell_type": "code",
   "execution_count": 49,
   "metadata": {},
   "outputs": [],
   "source": [
    "X_train, X_test, y_train, y_test = train_test_split(X, y, test_size=0.2, random_state=101)"
   ]
  },
  {
   "cell_type": "markdown",
   "metadata": {},
   "source": [
    "# Feature scaling"
   ]
  },
  {
   "cell_type": "markdown",
   "metadata": {},
   "source": [
    "Since we intend to use questionnaire items to predict attendence levels and X and y have different scales, we will scale the items to obtain better model performance."
   ]
  },
  {
   "cell_type": "markdown",
   "metadata": {},
   "source": [
    "Import MinMaxScaler"
   ]
  },
  {
   "cell_type": "code",
   "execution_count": 50,
   "metadata": {},
   "outputs": [],
   "source": [
    "from sklearn.preprocessing import MinMaxScaler"
   ]
  },
  {
   "cell_type": "markdown",
   "metadata": {},
   "source": [
    "Create scaler."
   ]
  },
  {
   "cell_type": "code",
   "execution_count": 51,
   "metadata": {},
   "outputs": [],
   "source": [
    "scaler = MinMaxScaler()"
   ]
  },
  {
   "cell_type": "markdown",
   "metadata": {},
   "source": [
    "Fit scaler object to X_train and transform X_train in one step."
   ]
  },
  {
   "cell_type": "code",
   "execution_count": 52,
   "metadata": {},
   "outputs": [],
   "source": [
    "X_train = scaler.fit_transform(X_train)"
   ]
  },
  {
   "cell_type": "markdown",
   "metadata": {},
   "source": [
    "Fit scaler object to X test set"
   ]
  },
  {
   "cell_type": "code",
   "execution_count": 53,
   "metadata": {},
   "outputs": [],
   "source": [
    "X_test = scaler.transform(X_test)"
   ]
  },
  {
   "cell_type": "markdown",
   "metadata": {},
   "source": [
    "# Use TensorFlow to run Deep Learning"
   ]
  },
  {
   "cell_type": "markdown",
   "metadata": {},
   "source": [
    "After importing the TensorFlow and Keras libraries, we will be able to specify the shape of our neural network. The first layer of the network will have as many nodes as there are input features. The second layer of the network will have half the number of nodes in the first layer."
   ]
  },
  {
   "cell_type": "code",
   "execution_count": 54,
   "metadata": {},
   "outputs": [],
   "source": [
    "# Import TensorFlow and Keras libraries\n",
    "import tensorflow as tf\n",
    "from tensorflow.keras.models import Sequential\n",
    "from tensorflow.keras.layers import Dense,Dropout"
   ]
  },
  {
   "cell_type": "code",
   "execution_count": 55,
   "metadata": {},
   "outputs": [],
   "source": [
    "model = Sequential() # To be able to add more layers if considered necessary.\n",
    "\n",
    "model.add(Dense(62,activation='relu')) # number of neurons in first layer = number of features\n",
    "model.add(Dense(31,activation='relu')) # number of neurons in second layer = half number of input features\n",
    "# model.add(Dense(19,activation='relu'))\n",
    "\n",
    "# Binary Classification problem:\n",
    "model.add(Dense(6,activation='softmax')) # number of output neuron is only 1 because we are only predicting a single outcome\n",
    "\n",
    "# Our question is categorical, so we've chosen categorical_crossentropy to predict the labels of y.\n",
    "model.compile(loss='categorical_crossentropy',optimizer='adam') "
   ]
  },
  {
   "cell_type": "code",
   "execution_count": 56,
   "metadata": {},
   "outputs": [
    {
     "name": "stdout",
     "output_type": "stream",
     "text": [
      "Train on 100 samples, validate on 25 samples\n",
      "Epoch 1/40\n",
      "100/100 [==============================] - 1s 9ms/sample - loss: 1.6834 - val_loss: 1.5795\n",
      "Epoch 2/40\n",
      "100/100 [==============================] - 0s 949us/sample - loss: 1.3928 - val_loss: 1.3509\n",
      "Epoch 3/40\n",
      "100/100 [==============================] - 0s 699us/sample - loss: 1.1466 - val_loss: 1.1616\n",
      "Epoch 4/40\n",
      "100/100 [==============================] - 0s 729us/sample - loss: 0.9576 - val_loss: 1.0465\n",
      "Epoch 5/40\n",
      "100/100 [==============================] - 0s 659us/sample - loss: 0.8153 - val_loss: 0.9312\n",
      "Epoch 6/40\n",
      "100/100 [==============================] - 0s 1ms/sample - loss: 0.6765 - val_loss: 0.8373\n",
      "Epoch 7/40\n",
      "100/100 [==============================] - 0s 789us/sample - loss: 0.5651 - val_loss: 0.7467\n",
      "Epoch 8/40\n",
      "100/100 [==============================] - 0s 809us/sample - loss: 0.4559 - val_loss: 0.6613\n",
      "Epoch 9/40\n",
      "100/100 [==============================] - 0s 769us/sample - loss: 0.3685 - val_loss: 0.5875\n",
      "Epoch 10/40\n",
      "100/100 [==============================] - 0s 829us/sample - loss: 0.2919 - val_loss: 0.5204\n",
      "Epoch 11/40\n",
      "100/100 [==============================] - 0s 979us/sample - loss: 0.2287 - val_loss: 0.4549\n",
      "Epoch 12/40\n",
      "100/100 [==============================] - 0s 889us/sample - loss: 0.1767 - val_loss: 0.4029\n",
      "Epoch 13/40\n",
      "100/100 [==============================] - 0s 649us/sample - loss: 0.1341 - val_loss: 0.3482\n",
      "Epoch 14/40\n",
      "100/100 [==============================] - 0s 270us/sample - loss: 0.0965 - val_loss: 0.3107\n",
      "Epoch 15/40\n",
      "100/100 [==============================] - 0s 320us/sample - loss: 0.0734 - val_loss: 0.2761\n",
      "Epoch 16/40\n",
      "100/100 [==============================] - 0s 280us/sample - loss: 0.0566 - val_loss: 0.2464\n",
      "Epoch 17/40\n",
      "100/100 [==============================] - 0s 280us/sample - loss: 0.0446 - val_loss: 0.2295\n",
      "Epoch 18/40\n",
      "100/100 [==============================] - 0s 290us/sample - loss: 0.0346 - val_loss: 0.2065\n",
      "Epoch 19/40\n",
      "100/100 [==============================] - 0s 290us/sample - loss: 0.0283 - val_loss: 0.1883\n",
      "Epoch 20/40\n",
      "100/100 [==============================] - 0s 300us/sample - loss: 0.0237 - val_loss: 0.1791\n",
      "Epoch 21/40\n",
      "100/100 [==============================] - 0s 310us/sample - loss: 0.0197 - val_loss: 0.1713\n",
      "Epoch 22/40\n",
      "100/100 [==============================] - 0s 280us/sample - loss: 0.0170 - val_loss: 0.1567\n",
      "Epoch 23/40\n",
      "100/100 [==============================] - ETA: 0s - loss: 0.030 - 0s 270us/sample - loss: 0.0146 - val_loss: 0.1513\n",
      "Epoch 24/40\n",
      "100/100 [==============================] - 0s 270us/sample - loss: 0.0127 - val_loss: 0.1441\n",
      "Epoch 25/40\n",
      "100/100 [==============================] - 0s 280us/sample - loss: 0.0112 - val_loss: 0.1392\n",
      "Epoch 26/40\n",
      "100/100 [==============================] - 0s 270us/sample - loss: 0.0100 - val_loss: 0.1317\n",
      "Epoch 27/40\n",
      "100/100 [==============================] - 0s 260us/sample - loss: 0.0089 - val_loss: 0.1280\n",
      "Epoch 28/40\n",
      "100/100 [==============================] - 0s 290us/sample - loss: 0.0080 - val_loss: 0.1262\n",
      "Epoch 29/40\n",
      "100/100 [==============================] - 0s 300us/sample - loss: 0.0073 - val_loss: 0.1201\n",
      "Epoch 30/40\n",
      "100/100 [==============================] - 0s 270us/sample - loss: 0.0066 - val_loss: 0.1185\n",
      "Epoch 31/40\n",
      "100/100 [==============================] - 0s 270us/sample - loss: 0.0060 - val_loss: 0.1155\n",
      "Epoch 32/40\n",
      "100/100 [==============================] - 0s 290us/sample - loss: 0.0055 - val_loss: 0.1115\n",
      "Epoch 33/40\n",
      "100/100 [==============================] - 0s 290us/sample - loss: 0.0051 - val_loss: 0.1095\n",
      "Epoch 34/40\n",
      "100/100 [==============================] - 0s 270us/sample - loss: 0.0047 - val_loss: 0.1074\n",
      "Epoch 35/40\n",
      "100/100 [==============================] - 0s 260us/sample - loss: 0.0043 - val_loss: 0.1049\n",
      "Epoch 36/40\n",
      "100/100 [==============================] - 0s 290us/sample - loss: 0.0040 - val_loss: 0.1034\n",
      "Epoch 37/40\n",
      "100/100 [==============================] - 0s 310us/sample - loss: 0.0037 - val_loss: 0.0999\n",
      "Epoch 38/40\n",
      "100/100 [==============================] - 0s 300us/sample - loss: 0.0035 - val_loss: 0.0993\n",
      "Epoch 39/40\n",
      "100/100 [==============================] - 0s 290us/sample - loss: 0.0033 - val_loss: 0.0971\n",
      "Epoch 40/40\n",
      "100/100 [==============================] - 0s 270us/sample - loss: 0.0031 - val_loss: 0.0957\n"
     ]
    },
    {
     "data": {
      "text/plain": [
       "<tensorflow.python.keras.callbacks.History at 0x27c448ac948>"
      ]
     },
     "execution_count": 56,
     "metadata": {},
     "output_type": "execute_result"
    }
   ],
   "source": [
    "# Fit the model with a batch size of 5 rows, running 40 epochs through the dataset.\n",
    "# Training the model only on training data. Tested on validation data, which is x_test and y_test.\n",
    "model.fit(x=X_train,y=y_train,epochs=40,batch_size=5,validation_data=(X_test,y_test))"
   ]
  },
  {
   "cell_type": "markdown",
   "metadata": {},
   "source": [
    "Plot the stochastic gradient losses. This indicates the difference between the prediction and the actual value."
   ]
  },
  {
   "cell_type": "code",
   "execution_count": 57,
   "metadata": {},
   "outputs": [
    {
     "data": {
      "text/plain": [
       "<matplotlib.axes._subplots.AxesSubplot at 0x27c45edde48>"
      ]
     },
     "execution_count": 57,
     "metadata": {},
     "output_type": "execute_result"
    },
    {
     "data": {
      "image/png": "[encoded data removed]",
      "text/plain": [
       "<Figure size 432x288 with 1 Axes>"
      ]
     },
     "metadata": {},
     "output_type": "display_data"
    }
   ],
   "source": [
    "losses = pd.DataFrame(model.history.history)\n",
    "\n",
    "# Compare losses on validation set (val_loss, in orange) and the training set (loss, in blue)\n",
    "losses[['loss','val_loss']].plot()"
   ]
  },
  {
   "cell_type": "markdown",
   "metadata": {},
   "source": [
    "# Prediction Labels"
   ]
  },
  {
   "cell_type": "markdown",
   "metadata": {},
   "source": [
    "Create an array with the predictions"
   ]
  },
  {
   "cell_type": "code",
   "execution_count": 58,
   "metadata": {},
   "outputs": [],
   "source": [
    "predictions = model.predict_classes(X_test)"
   ]
  },
  {
   "cell_type": "markdown",
   "metadata": {},
   "source": [
    "View this array to check class labels. We will now need to convert these numbers back to their original labels indicating Attendance level."
   ]
  },
  {
   "cell_type": "code",
   "execution_count": 59,
   "metadata": {},
   "outputs": [
    {
     "data": {
      "text/plain": [
       "array([5, 1, 0, 2, 0, 0, 0, 3, 3, 1, 2, 0, 0, 0, 0, 0, 0, 2, 1, 0, 1, 0,\n",
       "       1, 1, 0], dtype=int64)"
      ]
     },
     "execution_count": 59,
     "metadata": {},
     "output_type": "execute_result"
    }
   ],
   "source": [
    "predictions"
   ]
  },
  {
   "cell_type": "markdown",
   "metadata": {},
   "source": [
    "View y_test array, still coded as dummy variables"
   ]
  },
  {
   "cell_type": "code",
   "execution_count": 60,
   "metadata": {},
   "outputs": [
    {
     "data": {
      "text/plain": [
       "array([[0, 0, 0, 0, 0, 1],\n",
       "       [0, 1, 0, 0, 0, 0],\n",
       "       [1, 0, 0, 0, 0, 0],\n",
       "       [0, 0, 1, 0, 0, 0],\n",
       "       [1, 0, 0, 0, 0, 0],\n",
       "       [1, 0, 0, 0, 0, 0],\n",
       "       [1, 0, 0, 0, 0, 0],\n",
       "       [0, 0, 0, 1, 0, 0],\n",
       "       [0, 0, 0, 1, 0, 0],\n",
       "       [0, 1, 0, 0, 0, 0],\n",
       "       [0, 0, 1, 0, 0, 0],\n",
       "       [1, 0, 0, 0, 0, 0],\n",
       "       [1, 0, 0, 0, 0, 0],\n",
       "       [1, 0, 0, 0, 0, 0],\n",
       "       [1, 0, 0, 0, 0, 0],\n",
       "       [1, 0, 0, 0, 0, 0],\n",
       "       [0, 0, 0, 0, 1, 0],\n",
       "       [0, 0, 1, 0, 0, 0],\n",
       "       [0, 1, 0, 0, 0, 0],\n",
       "       [1, 0, 0, 0, 0, 0],\n",
       "       [0, 1, 0, 0, 0, 0],\n",
       "       [1, 0, 0, 0, 0, 0],\n",
       "       [0, 1, 0, 0, 0, 0],\n",
       "       [0, 1, 0, 0, 0, 0],\n",
       "       [1, 0, 0, 0, 0, 0]], dtype=uint8)"
      ]
     },
     "execution_count": 60,
     "metadata": {},
     "output_type": "execute_result"
    }
   ],
   "source": [
    "y_test"
   ]
  },
  {
   "cell_type": "markdown",
   "metadata": {},
   "source": [
    "Check labelling of attendendance values"
   ]
  },
  {
   "cell_type": "code",
   "execution_count": 61,
   "metadata": {},
   "outputs": [
    {
     "data": {
      "text/html": [
       "<div>\n",
       "<style scoped>\n",
       "    .dataframe tbody tr th:only-of-type {\n",
       "        vertical-align: middle;\n",
       "    }\n",
       "\n",
       "    .dataframe tbody tr th {\n",
       "        vertical-align: top;\n",
       "    }\n",
       "\n",
       "    .dataframe thead th {\n",
       "        text-align: right;\n",
       "    }\n",
       "</style>\n",
       "<table border=\"1\" class=\"dataframe\">\n",
       "  <thead>\n",
       "    <tr style=\"text-align: right;\">\n",
       "      <th></th>\n",
       "      <th>Attendance_S0</th>\n",
       "      <th>Attendance_S1</th>\n",
       "      <th>Attendance_S2</th>\n",
       "      <th>Attendance_S3</th>\n",
       "      <th>Attendance_S4</th>\n",
       "      <th>Attendance_nan</th>\n",
       "    </tr>\n",
       "  </thead>\n",
       "  <tbody>\n",
       "    <tr>\n",
       "      <td>0</td>\n",
       "      <td>1</td>\n",
       "      <td>0</td>\n",
       "      <td>0</td>\n",
       "      <td>0</td>\n",
       "      <td>0</td>\n",
       "      <td>0</td>\n",
       "    </tr>\n",
       "    <tr>\n",
       "      <td>1</td>\n",
       "      <td>0</td>\n",
       "      <td>0</td>\n",
       "      <td>0</td>\n",
       "      <td>1</td>\n",
       "      <td>0</td>\n",
       "      <td>0</td>\n",
       "    </tr>\n",
       "    <tr>\n",
       "      <td>2</td>\n",
       "      <td>1</td>\n",
       "      <td>0</td>\n",
       "      <td>0</td>\n",
       "      <td>0</td>\n",
       "      <td>0</td>\n",
       "      <td>0</td>\n",
       "    </tr>\n",
       "    <tr>\n",
       "      <td>3</td>\n",
       "      <td>1</td>\n",
       "      <td>0</td>\n",
       "      <td>0</td>\n",
       "      <td>0</td>\n",
       "      <td>0</td>\n",
       "      <td>0</td>\n",
       "    </tr>\n",
       "    <tr>\n",
       "      <td>4</td>\n",
       "      <td>0</td>\n",
       "      <td>1</td>\n",
       "      <td>0</td>\n",
       "      <td>0</td>\n",
       "      <td>0</td>\n",
       "      <td>0</td>\n",
       "    </tr>\n",
       "    <tr>\n",
       "      <td>5</td>\n",
       "      <td>1</td>\n",
       "      <td>0</td>\n",
       "      <td>0</td>\n",
       "      <td>0</td>\n",
       "      <td>0</td>\n",
       "      <td>0</td>\n",
       "    </tr>\n",
       "    <tr>\n",
       "      <td>6</td>\n",
       "      <td>1</td>\n",
       "      <td>0</td>\n",
       "      <td>0</td>\n",
       "      <td>0</td>\n",
       "      <td>0</td>\n",
       "      <td>0</td>\n",
       "    </tr>\n",
       "    <tr>\n",
       "      <td>7</td>\n",
       "      <td>1</td>\n",
       "      <td>0</td>\n",
       "      <td>0</td>\n",
       "      <td>0</td>\n",
       "      <td>0</td>\n",
       "      <td>0</td>\n",
       "    </tr>\n",
       "    <tr>\n",
       "      <td>8</td>\n",
       "      <td>1</td>\n",
       "      <td>0</td>\n",
       "      <td>0</td>\n",
       "      <td>0</td>\n",
       "      <td>0</td>\n",
       "      <td>0</td>\n",
       "    </tr>\n",
       "    <tr>\n",
       "      <td>9</td>\n",
       "      <td>1</td>\n",
       "      <td>0</td>\n",
       "      <td>0</td>\n",
       "      <td>0</td>\n",
       "      <td>0</td>\n",
       "      <td>0</td>\n",
       "    </tr>\n",
       "    <tr>\n",
       "      <td>10</td>\n",
       "      <td>0</td>\n",
       "      <td>1</td>\n",
       "      <td>0</td>\n",
       "      <td>0</td>\n",
       "      <td>0</td>\n",
       "      <td>0</td>\n",
       "    </tr>\n",
       "    <tr>\n",
       "      <td>11</td>\n",
       "      <td>0</td>\n",
       "      <td>1</td>\n",
       "      <td>0</td>\n",
       "      <td>0</td>\n",
       "      <td>0</td>\n",
       "      <td>0</td>\n",
       "    </tr>\n",
       "  </tbody>\n",
       "</table>\n",
       "</div>"
      ],
      "text/plain": [
       "    Attendance_S0  Attendance_S1  Attendance_S2  Attendance_S3  Attendance_S4  \\\n",
       "0               1              0              0              0              0   \n",
       "1               0              0              0              1              0   \n",
       "2               1              0              0              0              0   \n",
       "3               1              0              0              0              0   \n",
       "4               0              1              0              0              0   \n",
       "5               1              0              0              0              0   \n",
       "6               1              0              0              0              0   \n",
       "7               1              0              0              0              0   \n",
       "8               1              0              0              0              0   \n",
       "9               1              0              0              0              0   \n",
       "10              0              1              0              0              0   \n",
       "11              0              1              0              0              0   \n",
       "\n",
       "    Attendance_nan  \n",
       "0                0  \n",
       "1                0  \n",
       "2                0  \n",
       "3                0  \n",
       "4                0  \n",
       "5                0  \n",
       "6                0  \n",
       "7                0  \n",
       "8                0  \n",
       "9                0  \n",
       "10               0  \n",
       "11               0  "
      ]
     },
     "execution_count": 61,
     "metadata": {},
     "output_type": "execute_result"
    }
   ],
   "source": [
    "students[['Attendance_S0','Attendance_S1','Attendance_S2','Attendance_S3','Attendance_S4','Attendance_nan']].head(12)"
   ]
  },
  {
   "cell_type": "markdown",
   "metadata": {},
   "source": [
    "Create a dictionary that matches the label in the predictions array with the correct Attendance label."
   ]
  },
  {
   "cell_type": "code",
   "execution_count": 62,
   "metadata": {},
   "outputs": [],
   "source": [
    "prediction_dictionary = {'0': 'S0', '1': 'S1', '2': 'S2',\n",
    "'3': 'S3', '4': 'S4','5':'nan'}"
   ]
  },
  {
   "cell_type": "markdown",
   "metadata": {},
   "source": [
    "Create a new dataframe for the name of the predictions. Use the mapping function to map the dictionary labels to the predictions array."
   ]
  },
  {
   "cell_type": "code",
   "execution_count": 63,
   "metadata": {},
   "outputs": [],
   "source": [
    "prediction_name = pd.Series(predictions).apply(str).map(prediction_dictionary)"
   ]
  },
  {
   "cell_type": "markdown",
   "metadata": {},
   "source": [
    "View the new Attendance labels for predictions."
   ]
  },
  {
   "cell_type": "code",
   "execution_count": 64,
   "metadata": {},
   "outputs": [
    {
     "data": {
      "text/plain": [
       "0     nan\n",
       "1      S1\n",
       "2      S0\n",
       "3      S2\n",
       "4      S0\n",
       "5      S0\n",
       "6      S0\n",
       "7      S3\n",
       "8      S3\n",
       "9      S1\n",
       "10     S2\n",
       "11     S0\n",
       "12     S0\n",
       "13     S0\n",
       "14     S0\n",
       "15     S0\n",
       "16     S0\n",
       "17     S2\n",
       "18     S1\n",
       "19     S0\n",
       "20     S1\n",
       "21     S0\n",
       "22     S1\n",
       "23     S1\n",
       "24     S0\n",
       "dtype: object"
      ]
     },
     "execution_count": 64,
     "metadata": {},
     "output_type": "execute_result"
    }
   ],
   "source": [
    "prediction_name"
   ]
  },
  {
   "cell_type": "markdown",
   "metadata": {},
   "source": [
    "Now to recode the y_test dummy variables back to categorical labels. First create a dataframe of y_test"
   ]
  },
  {
   "cell_type": "code",
   "execution_count": 65,
   "metadata": {},
   "outputs": [],
   "source": [
    "y_test_df = pd.DataFrame(y_test)"
   ]
  },
  {
   "cell_type": "markdown",
   "metadata": {},
   "source": [
    "Now create a y_test variable that concatenates (row-wise) all of the dummy variables into a single string column."
   ]
  },
  {
   "cell_type": "code",
   "execution_count": 66,
   "metadata": {},
   "outputs": [],
   "source": [
    "y_test_dummy_label = y_test_df[0].apply(str) + y_test_df[1].apply(str) + y_test_df[2].apply(str) + y_test_df[3].apply(str) + y_test_df[4].apply(str) + y_test_df[5].apply(str)"
   ]
  },
  {
   "cell_type": "code",
   "execution_count": 67,
   "metadata": {},
   "outputs": [
    {
     "data": {
      "text/plain": [
       "0     000001\n",
       "1     010000\n",
       "2     100000\n",
       "3     001000\n",
       "4     100000\n",
       "5     100000\n",
       "6     100000\n",
       "7     000100\n",
       "8     000100\n",
       "9     010000\n",
       "10    001000\n",
       "11    100000\n",
       "12    100000\n",
       "13    100000\n",
       "14    100000\n",
       "15    100000\n",
       "16    000010\n",
       "17    001000\n",
       "18    010000\n",
       "19    100000\n",
       "20    010000\n",
       "21    100000\n",
       "22    010000\n",
       "23    010000\n",
       "24    100000\n",
       "dtype: object"
      ]
     },
     "execution_count": 67,
     "metadata": {},
     "output_type": "execute_result"
    }
   ],
   "source": [
    "y_test_dummy_label"
   ]
  },
  {
   "cell_type": "markdown",
   "metadata": {},
   "source": [
    "Create a label dictionary that matches the string to its appropriate Attendance label."
   ]
  },
  {
   "cell_type": "code",
   "execution_count": 68,
   "metadata": {},
   "outputs": [],
   "source": [
    "label_dictionary = {'100000': 'S0', '010000': 'S1', '001000': 'S2',\n",
    "'000100': 'S3', '000010': 'S4', '000001':'nan'}"
   ]
  },
  {
   "cell_type": "markdown",
   "metadata": {},
   "source": [
    "Create a new column that takes maps the dictionary labels on to the strings indicating Attendance."
   ]
  },
  {
   "cell_type": "code",
   "execution_count": 69,
   "metadata": {},
   "outputs": [],
   "source": [
    "y_test_name = y_test_dummy_label.map(label_dictionary)"
   ]
  },
  {
   "cell_type": "markdown",
   "metadata": {},
   "source": [
    "View the new column"
   ]
  },
  {
   "cell_type": "code",
   "execution_count": 70,
   "metadata": {},
   "outputs": [
    {
     "data": {
      "text/plain": [
       "0     nan\n",
       "1      S1\n",
       "2      S0\n",
       "3      S2\n",
       "4      S0\n",
       "5      S0\n",
       "6      S0\n",
       "7      S3\n",
       "8      S3\n",
       "9      S1\n",
       "10     S2\n",
       "11     S0\n",
       "12     S0\n",
       "13     S0\n",
       "14     S0\n",
       "15     S0\n",
       "16     S4\n",
       "17     S2\n",
       "18     S1\n",
       "19     S0\n",
       "20     S1\n",
       "21     S0\n",
       "22     S1\n",
       "23     S1\n",
       "24     S0\n",
       "dtype: object"
      ]
     },
     "execution_count": 70,
     "metadata": {},
     "output_type": "execute_result"
    }
   ],
   "source": [
    "y_test_name"
   ]
  },
  {
   "cell_type": "markdown",
   "metadata": {},
   "source": [
    "Create a dataframe where y_test labels and prediction labels can be viewed side-by-side."
   ]
  },
  {
   "cell_type": "code",
   "execution_count": 71,
   "metadata": {},
   "outputs": [],
   "source": [
    "prediction_vs_y_test = pd.concat([prediction_name, y_test_name], axis=1)"
   ]
  },
  {
   "cell_type": "code",
   "execution_count": 72,
   "metadata": {},
   "outputs": [
    {
     "data": {
      "text/html": [
       "<div>\n",
       "<style scoped>\n",
       "    .dataframe tbody tr th:only-of-type {\n",
       "        vertical-align: middle;\n",
       "    }\n",
       "\n",
       "    .dataframe tbody tr th {\n",
       "        vertical-align: top;\n",
       "    }\n",
       "\n",
       "    .dataframe thead th {\n",
       "        text-align: right;\n",
       "    }\n",
       "</style>\n",
       "<table border=\"1\" class=\"dataframe\">\n",
       "  <thead>\n",
       "    <tr style=\"text-align: right;\">\n",
       "      <th></th>\n",
       "      <th>0</th>\n",
       "      <th>1</th>\n",
       "    </tr>\n",
       "  </thead>\n",
       "  <tbody>\n",
       "    <tr>\n",
       "      <td>0</td>\n",
       "      <td>nan</td>\n",
       "      <td>nan</td>\n",
       "    </tr>\n",
       "    <tr>\n",
       "      <td>1</td>\n",
       "      <td>S1</td>\n",
       "      <td>S1</td>\n",
       "    </tr>\n",
       "    <tr>\n",
       "      <td>2</td>\n",
       "      <td>S0</td>\n",
       "      <td>S0</td>\n",
       "    </tr>\n",
       "    <tr>\n",
       "      <td>3</td>\n",
       "      <td>S2</td>\n",
       "      <td>S2</td>\n",
       "    </tr>\n",
       "    <tr>\n",
       "      <td>4</td>\n",
       "      <td>S0</td>\n",
       "      <td>S0</td>\n",
       "    </tr>\n",
       "    <tr>\n",
       "      <td>5</td>\n",
       "      <td>S0</td>\n",
       "      <td>S0</td>\n",
       "    </tr>\n",
       "    <tr>\n",
       "      <td>6</td>\n",
       "      <td>S0</td>\n",
       "      <td>S0</td>\n",
       "    </tr>\n",
       "    <tr>\n",
       "      <td>7</td>\n",
       "      <td>S3</td>\n",
       "      <td>S3</td>\n",
       "    </tr>\n",
       "    <tr>\n",
       "      <td>8</td>\n",
       "      <td>S3</td>\n",
       "      <td>S3</td>\n",
       "    </tr>\n",
       "    <tr>\n",
       "      <td>9</td>\n",
       "      <td>S1</td>\n",
       "      <td>S1</td>\n",
       "    </tr>\n",
       "    <tr>\n",
       "      <td>10</td>\n",
       "      <td>S2</td>\n",
       "      <td>S2</td>\n",
       "    </tr>\n",
       "    <tr>\n",
       "      <td>11</td>\n",
       "      <td>S0</td>\n",
       "      <td>S0</td>\n",
       "    </tr>\n",
       "    <tr>\n",
       "      <td>12</td>\n",
       "      <td>S0</td>\n",
       "      <td>S0</td>\n",
       "    </tr>\n",
       "    <tr>\n",
       "      <td>13</td>\n",
       "      <td>S0</td>\n",
       "      <td>S0</td>\n",
       "    </tr>\n",
       "    <tr>\n",
       "      <td>14</td>\n",
       "      <td>S0</td>\n",
       "      <td>S0</td>\n",
       "    </tr>\n",
       "    <tr>\n",
       "      <td>15</td>\n",
       "      <td>S0</td>\n",
       "      <td>S0</td>\n",
       "    </tr>\n",
       "    <tr>\n",
       "      <td>16</td>\n",
       "      <td>S0</td>\n",
       "      <td>S4</td>\n",
       "    </tr>\n",
       "    <tr>\n",
       "      <td>17</td>\n",
       "      <td>S2</td>\n",
       "      <td>S2</td>\n",
       "    </tr>\n",
       "    <tr>\n",
       "      <td>18</td>\n",
       "      <td>S1</td>\n",
       "      <td>S1</td>\n",
       "    </tr>\n",
       "    <tr>\n",
       "      <td>19</td>\n",
       "      <td>S0</td>\n",
       "      <td>S0</td>\n",
       "    </tr>\n",
       "    <tr>\n",
       "      <td>20</td>\n",
       "      <td>S1</td>\n",
       "      <td>S1</td>\n",
       "    </tr>\n",
       "    <tr>\n",
       "      <td>21</td>\n",
       "      <td>S0</td>\n",
       "      <td>S0</td>\n",
       "    </tr>\n",
       "    <tr>\n",
       "      <td>22</td>\n",
       "      <td>S1</td>\n",
       "      <td>S1</td>\n",
       "    </tr>\n",
       "    <tr>\n",
       "      <td>23</td>\n",
       "      <td>S1</td>\n",
       "      <td>S1</td>\n",
       "    </tr>\n",
       "    <tr>\n",
       "      <td>24</td>\n",
       "      <td>S0</td>\n",
       "      <td>S0</td>\n",
       "    </tr>\n",
       "  </tbody>\n",
       "</table>\n",
       "</div>"
      ],
      "text/plain": [
       "      0    1\n",
       "0   nan  nan\n",
       "1    S1   S1\n",
       "2    S0   S0\n",
       "3    S2   S2\n",
       "4    S0   S0\n",
       "5    S0   S0\n",
       "6    S0   S0\n",
       "7    S3   S3\n",
       "8    S3   S3\n",
       "9    S1   S1\n",
       "10   S2   S2\n",
       "11   S0   S0\n",
       "12   S0   S0\n",
       "13   S0   S0\n",
       "14   S0   S0\n",
       "15   S0   S0\n",
       "16   S0   S4\n",
       "17   S2   S2\n",
       "18   S1   S1\n",
       "19   S0   S0\n",
       "20   S1   S1\n",
       "21   S0   S0\n",
       "22   S1   S1\n",
       "23   S1   S1\n",
       "24   S0   S0"
      ]
     },
     "execution_count": 72,
     "metadata": {},
     "output_type": "execute_result"
    }
   ],
   "source": [
    "prediction_vs_y_test"
   ]
  },
  {
   "cell_type": "markdown",
   "metadata": {},
   "source": [
    "Once this new dataframe is created, create a new column called \"Correct\" that compares the prediction vs y_test labels to each other. Wherever they match, the Correct column will report a 1."
   ]
  },
  {
   "cell_type": "code",
   "execution_count": 73,
   "metadata": {},
   "outputs": [],
   "source": [
    "prediction_vs_y_test['Correct'] = np.where((prediction_vs_y_test[0] == prediction_vs_y_test[1]), 1, 0)"
   ]
  },
  {
   "cell_type": "code",
   "execution_count": 74,
   "metadata": {},
   "outputs": [
    {
     "data": {
      "text/html": [
       "<div>\n",
       "<style scoped>\n",
       "    .dataframe tbody tr th:only-of-type {\n",
       "        vertical-align: middle;\n",
       "    }\n",
       "\n",
       "    .dataframe tbody tr th {\n",
       "        vertical-align: top;\n",
       "    }\n",
       "\n",
       "    .dataframe thead th {\n",
       "        text-align: right;\n",
       "    }\n",
       "</style>\n",
       "<table border=\"1\" class=\"dataframe\">\n",
       "  <thead>\n",
       "    <tr style=\"text-align: right;\">\n",
       "      <th></th>\n",
       "      <th>0</th>\n",
       "      <th>1</th>\n",
       "      <th>Correct</th>\n",
       "    </tr>\n",
       "  </thead>\n",
       "  <tbody>\n",
       "    <tr>\n",
       "      <td>0</td>\n",
       "      <td>nan</td>\n",
       "      <td>nan</td>\n",
       "      <td>1</td>\n",
       "    </tr>\n",
       "    <tr>\n",
       "      <td>1</td>\n",
       "      <td>S1</td>\n",
       "      <td>S1</td>\n",
       "      <td>1</td>\n",
       "    </tr>\n",
       "    <tr>\n",
       "      <td>2</td>\n",
       "      <td>S0</td>\n",
       "      <td>S0</td>\n",
       "      <td>1</td>\n",
       "    </tr>\n",
       "    <tr>\n",
       "      <td>3</td>\n",
       "      <td>S2</td>\n",
       "      <td>S2</td>\n",
       "      <td>1</td>\n",
       "    </tr>\n",
       "    <tr>\n",
       "      <td>4</td>\n",
       "      <td>S0</td>\n",
       "      <td>S0</td>\n",
       "      <td>1</td>\n",
       "    </tr>\n",
       "    <tr>\n",
       "      <td>5</td>\n",
       "      <td>S0</td>\n",
       "      <td>S0</td>\n",
       "      <td>1</td>\n",
       "    </tr>\n",
       "    <tr>\n",
       "      <td>6</td>\n",
       "      <td>S0</td>\n",
       "      <td>S0</td>\n",
       "      <td>1</td>\n",
       "    </tr>\n",
       "    <tr>\n",
       "      <td>7</td>\n",
       "      <td>S3</td>\n",
       "      <td>S3</td>\n",
       "      <td>1</td>\n",
       "    </tr>\n",
       "    <tr>\n",
       "      <td>8</td>\n",
       "      <td>S3</td>\n",
       "      <td>S3</td>\n",
       "      <td>1</td>\n",
       "    </tr>\n",
       "    <tr>\n",
       "      <td>9</td>\n",
       "      <td>S1</td>\n",
       "      <td>S1</td>\n",
       "      <td>1</td>\n",
       "    </tr>\n",
       "    <tr>\n",
       "      <td>10</td>\n",
       "      <td>S2</td>\n",
       "      <td>S2</td>\n",
       "      <td>1</td>\n",
       "    </tr>\n",
       "    <tr>\n",
       "      <td>11</td>\n",
       "      <td>S0</td>\n",
       "      <td>S0</td>\n",
       "      <td>1</td>\n",
       "    </tr>\n",
       "    <tr>\n",
       "      <td>12</td>\n",
       "      <td>S0</td>\n",
       "      <td>S0</td>\n",
       "      <td>1</td>\n",
       "    </tr>\n",
       "    <tr>\n",
       "      <td>13</td>\n",
       "      <td>S0</td>\n",
       "      <td>S0</td>\n",
       "      <td>1</td>\n",
       "    </tr>\n",
       "    <tr>\n",
       "      <td>14</td>\n",
       "      <td>S0</td>\n",
       "      <td>S0</td>\n",
       "      <td>1</td>\n",
       "    </tr>\n",
       "    <tr>\n",
       "      <td>15</td>\n",
       "      <td>S0</td>\n",
       "      <td>S0</td>\n",
       "      <td>1</td>\n",
       "    </tr>\n",
       "    <tr>\n",
       "      <td>16</td>\n",
       "      <td>S0</td>\n",
       "      <td>S4</td>\n",
       "      <td>0</td>\n",
       "    </tr>\n",
       "    <tr>\n",
       "      <td>17</td>\n",
       "      <td>S2</td>\n",
       "      <td>S2</td>\n",
       "      <td>1</td>\n",
       "    </tr>\n",
       "    <tr>\n",
       "      <td>18</td>\n",
       "      <td>S1</td>\n",
       "      <td>S1</td>\n",
       "      <td>1</td>\n",
       "    </tr>\n",
       "    <tr>\n",
       "      <td>19</td>\n",
       "      <td>S0</td>\n",
       "      <td>S0</td>\n",
       "      <td>1</td>\n",
       "    </tr>\n",
       "    <tr>\n",
       "      <td>20</td>\n",
       "      <td>S1</td>\n",
       "      <td>S1</td>\n",
       "      <td>1</td>\n",
       "    </tr>\n",
       "    <tr>\n",
       "      <td>21</td>\n",
       "      <td>S0</td>\n",
       "      <td>S0</td>\n",
       "      <td>1</td>\n",
       "    </tr>\n",
       "    <tr>\n",
       "      <td>22</td>\n",
       "      <td>S1</td>\n",
       "      <td>S1</td>\n",
       "      <td>1</td>\n",
       "    </tr>\n",
       "    <tr>\n",
       "      <td>23</td>\n",
       "      <td>S1</td>\n",
       "      <td>S1</td>\n",
       "      <td>1</td>\n",
       "    </tr>\n",
       "    <tr>\n",
       "      <td>24</td>\n",
       "      <td>S0</td>\n",
       "      <td>S0</td>\n",
       "      <td>1</td>\n",
       "    </tr>\n",
       "  </tbody>\n",
       "</table>\n",
       "</div>"
      ],
      "text/plain": [
       "      0    1  Correct\n",
       "0   nan  nan        1\n",
       "1    S1   S1        1\n",
       "2    S0   S0        1\n",
       "3    S2   S2        1\n",
       "4    S0   S0        1\n",
       "5    S0   S0        1\n",
       "6    S0   S0        1\n",
       "7    S3   S3        1\n",
       "8    S3   S3        1\n",
       "9    S1   S1        1\n",
       "10   S2   S2        1\n",
       "11   S0   S0        1\n",
       "12   S0   S0        1\n",
       "13   S0   S0        1\n",
       "14   S0   S0        1\n",
       "15   S0   S0        1\n",
       "16   S0   S4        0\n",
       "17   S2   S2        1\n",
       "18   S1   S1        1\n",
       "19   S0   S0        1\n",
       "20   S1   S1        1\n",
       "21   S0   S0        1\n",
       "22   S1   S1        1\n",
       "23   S1   S1        1\n",
       "24   S0   S0        1"
      ]
     },
     "execution_count": 74,
     "metadata": {},
     "output_type": "execute_result"
    }
   ],
   "source": [
    "prediction_vs_y_test"
   ]
  },
  {
   "cell_type": "markdown",
   "metadata": {},
   "source": [
    "Calculate prediction accuracy of model as a percent using the \"Correct\" column. Other measures of validity can also be calculated if necessary."
   ]
  },
  {
   "cell_type": "code",
   "execution_count": 76,
   "metadata": {},
   "outputs": [
    {
     "data": {
      "text/plain": [
       "96.0"
      ]
     },
     "execution_count": 76,
     "metadata": {},
     "output_type": "execute_result"
    }
   ],
   "source": [
    "(prediction_vs_y_test['Correct'].sum())/(len(prediction_vs_y_test))*100"
   ]
  }
 ],
 "metadata": {
  "kernelspec": {
   "display_name": "Python 3",
   "language": "python",
   "name": "python3"
  },
  "language_info": {
   "codemirror_mode": {
    "name": "ipython",
    "version": 3
   },
   "file_extension": ".py",
   "mimetype": "text/x-python",
   "name": "python",
   "nbconvert_exporter": "python",
   "pygments_lexer": "ipython3",
   "version": "3.8.6"
  }
 },
 "nbformat": 4,
 "nbformat_minor": 4
}
